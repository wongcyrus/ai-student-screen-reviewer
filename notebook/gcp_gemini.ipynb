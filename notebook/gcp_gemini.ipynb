{
 "cells": [
  {
   "cell_type": "code",
   "execution_count": null,
   "metadata": {},
   "outputs": [],
   "source": [
    "%pip install --upgrade --quiet  langchain-core langchain-google-vertexai google-cloud-aiplatform pandas openpyxl"
   ]
  },
  {
   "cell_type": "markdown",
   "metadata": {},
   "source": [
    "1. Install gcloud https://cloud.google.com/sdk/docs/install#deb \n",
    "2. Run '''gcloud auth application-default login'''\n",
    "3. Run '''gcloud auth application-default set-quota-project your_project_id'''"
   ]
  },
  {
   "cell_type": "code",
   "execution_count": 16,
   "metadata": {},
   "outputs": [],
   "source": [
    "import vertexai\n",
    "# Initialize vertexai with project ID and location\n",
    "vertexai.init(project=\"cyrus-testing-2023\", location=\"us-central1\")"
   ]
  },
  {
   "cell_type": "code",
   "execution_count": 17,
   "metadata": {},
   "outputs": [],
   "source": [
    "import base64\n",
    "\n",
    "def get_base64_video(video_path):\n",
    "    with open(video_path, \"rb\") as f:\n",
    "        video_b64 = base64.b64encode(f.read()).decode(\"utf-8\")\n",
    "    return video_b64"
   ]
  },
  {
   "cell_type": "code",
   "execution_count": 199,
   "metadata": {},
   "outputs": [],
   "source": [
    "system_instruction = \"\"\"\n",
    "You are the Invigilator for the Computer-Based Practical Test.\n",
    "\n",
    "Allowed Tools:\n",
    "Codespaces for coding.\n",
    "Moodle for reading instructions.\n",
    "Screen sharing is mandatory throughout the test.\n",
    "\n",
    "Prohibited Actions:\n",
    "1. Using messaging tools such as WhatsApp, Facebook Messenger, etc.\n",
    "2. Using AI tools.\n",
    "3. Searching for answers on Google, StackOverflow, etc.\n",
    "\"\"\""
   ]
  },
  {
   "cell_type": "code",
   "execution_count": null,
   "metadata": {},
   "outputs": [],
   "source": [
    "from typing import Annotated\n",
    "from langchain_core.tools import tool\n",
    "\n",
    "@tool(parse_docstring=False)\n",
    "def save_anaylsis_result(\n",
    "    summary: Annotated[str, \"The summary of activities.\"],\n",
    "    is_irregulation: Annotated[bool, \"Set it True if there is any irregulation.\"], \n",
    "    explanation: Annotated[str, \"Give the explanation for irregulation.\"],\n",
    "    confidence_score: Annotated[float, \"The confidence score for irregulation.\"]) -> str:   \n",
    "    \n",
    "    \"\"\" Save the video analysis result to the database. \"\"\"\n",
    "\n",
    "    print(f\"Summary: {summary}\")\n",
    "    print(f\"Is Irregulation: {is_irregulation}\")\n",
    "    print(f\"Explanation: {explanation}\")\n",
    "    print(f\"Confidence Score: {confidence_score}\")\n",
    "\n",
    "    return \"Record has saved successfully.\"\n",
    "\n",
    "\n",
    "save_anaylsis_result.args_schema.schema()\n",
    "\n"
   ]
  },
  {
   "cell_type": "code",
   "execution_count": 202,
   "metadata": {},
   "outputs": [],
   "source": [
    "from langchain_google_vertexai import ChatVertexAI\n",
    "from langchain_core.messages.human import HumanMessage\n",
    "\n",
    "llm = ChatVertexAI(\n",
    "    model=\"gemini-2.0-flash-exp\",\n",
    "    system_instruction=system_instruction,\n",
    "    temperature=0,\n",
    "    max_tokens=None,\n",
    "    max_retries=6,\n",
    "    stop=None\n",
    ")\n",
    "\n",
    "llm = llm.with_structured_output(save_anaylsis_result.args_schema.schema())\n",
    "\n",
    "def analyze_video(video_file_path: str) -> str:\n",
    "    video_b64 = get_base64_video(video_file_path)\n",
    "    video_responose = llm.invoke(\n",
    "        [\n",
    "            HumanMessage(\n",
    "                content=[\n",
    "                    {\n",
    "                        \"type\": \"media\",\n",
    "                        \"mime_type\": \"video/mp4\",\n",
    "                        \"data\": video_b64,\n",
    "                    },\n",
    "                    {\"type\": \"text\", \"text\": \"Is AI tools in video? Is search for answer from internet? Analysis the video for irregulation.\"},\n",
    "                ]\n",
    "            ),\n",
    "        ]\n",
    "    )\n",
    "    return video_responose"
   ]
  },
  {
   "cell_type": "code",
   "execution_count": null,
   "metadata": {},
   "outputs": [],
   "source": [
    "import glob\n",
    "import os\n",
    "from time import sleep\n",
    "from tqdm import tqdm\n",
    "\n",
    "screen_files = glob.glob(\"../output/*.mp4\")\n",
    "for file_path in tqdm(screen_files, desc=\"Processing files\"):\n",
    "    raw_result_file = file_path.replace(\".mp4\", \"genmini_raw_result.txt\")\n",
    "    if os.path.exists(raw_result_file):\n",
    "        continue\n",
    "    result = analyze_video(file_path)\n",
    "    with open(raw_result_file, 'w') as file:     \n",
    "        file.write(str(result))\n",
    "    sleep(10)"
   ]
  },
  {
   "cell_type": "code",
   "execution_count": null,
   "metadata": {
    "vscode": {
     "languageId": "ruby"
    }
   },
   "outputs": [],
   "source": [
    "import glob\n",
    "import json\n",
    "\n",
    "# Get a list of all files ending with genmini_raw_result.txt\n",
    "result_files = glob.glob(\"../output/*genmini_raw_result.txt\")\n",
    "\n",
    "# Read the content of each file and store it in a dictionary\n",
    "results = []\n",
    "for file_path in result_files:\n",
    "    with open(file_path, 'r') as file:       \n",
    "        student_id = file_path.split('/')[-1].split('-')[0]\n",
    "        result = eval(file.read())\n",
    "        if result is None:\n",
    "            print(f\"Error reading file {file_path}\")  \n",
    "            continue\n",
    "        result[\"student_id\"] = student_id\n",
    "        result[\"file_path\"] = file_path.replace(\"genmini_raw_result.txt\", \".mp4\").replace(\"../output/\", \"\")\n",
    "        results.append(result)"
   ]
  },
  {
   "cell_type": "code",
   "execution_count": null,
   "metadata": {},
   "outputs": [],
   "source": [
    "import pandas as pd\n",
    "\n",
    "# Convert the result to a DataFrame\n",
    "df = pd.DataFrame(results)\n",
    "df = df[[\"student_id\",\"is_irregulation\", \"explanation\", \"confidence_score\",\"summary\", \"file_path\"]]\n",
    "\n",
    "df.head()"
   ]
  },
  {
   "cell_type": "code",
   "execution_count": null,
   "metadata": {},
   "outputs": [],
   "source": [
    "df.to_excel(\"results.xlsx\", index=False)"
   ]
  },
  {
   "cell_type": "code",
   "execution_count": null,
   "metadata": {},
   "outputs": [],
   "source": []
  }
 ],
 "metadata": {
  "kernelspec": {
   "display_name": "venv",
   "language": "python",
   "name": "python3"
  },
  "language_info": {
   "codemirror_mode": {
    "name": "ipython",
    "version": 3
   },
   "file_extension": ".py",
   "mimetype": "text/x-python",
   "name": "python",
   "nbconvert_exporter": "python",
   "pygments_lexer": "ipython3",
   "version": "3.12.3"
  }
 },
 "nbformat": 4,
 "nbformat_minor": 2
}
